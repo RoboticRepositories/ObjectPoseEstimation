{
 "cells": [
  {
   "cell_type": "code",
   "execution_count": null,
   "id": "f83f54c5-0b3b-49ea-9e09-822e49e4a5fa",
   "metadata": {},
   "outputs": [],
   "source": [
    "! mkdir -p templates \\\n",
    "  && cd templates \\\n",
    "  && curl -L \"https://drive.usercontent.google.com/download?id={1t0nk_1R931LYl-F9nrYLfk-jKxoki-0A}&confirm=\" \\\n",
    "       -o zs6d_templates_ycbv.zip \\\n",
    "  && unzip zs6d_templates_ycbv.zip \\\n",
    "  && rm zs6d_templates_ycbv.zip"
   ]
  },
  {
   "cell_type": "code",
   "execution_count": null,
   "id": "5617c3ae-b853-4d67-84bd-bffc62ab7379",
   "metadata": {},
   "outputs": [],
   "source": []
  }
 ],
 "metadata": {
  "kernelspec": {
   "display_name": "Python 3 (ipykernel)",
   "language": "python",
   "name": "python3"
  },
  "language_info": {
   "codemirror_mode": {
    "name": "ipython",
    "version": 3
   },
   "file_extension": ".py",
   "mimetype": "text/x-python",
   "name": "python",
   "nbconvert_exporter": "python",
   "pygments_lexer": "ipython3",
   "version": "3.10.11"
  }
 },
 "nbformat": 4,
 "nbformat_minor": 5
}
