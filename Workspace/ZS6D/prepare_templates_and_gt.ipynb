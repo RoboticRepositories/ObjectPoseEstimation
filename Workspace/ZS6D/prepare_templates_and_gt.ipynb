{
 "cells": [
  {
   "cell_type": "code",
   "execution_count": null,
   "id": "d760e522-3b9f-40ff-907f-758d6c601569",
   "metadata": {},
   "outputs": [],
   "source": [
    "! mkdir -p gts/template_gts"
   ]
  },
  {
   "cell_type": "code",
   "execution_count": null,
   "id": "d01dd646-ae69-40b4-b282-b5b304556b94",
   "metadata": {},
   "outputs": [],
   "source": [
    "! python3 /code/ZS6D/prepare_templates_and_gt.py \\\n",
    "  --config_file /code/ZS6D/zs6d_configs/template_gt_preparation_configs/cfg_template_gt_generation_ycbv.json "
   ]
  },
  {
   "cell_type": "code",
   "execution_count": null,
   "id": "fcd5f69b-8a5c-4fd8-878b-d8b4e552d103",
   "metadata": {},
   "outputs": [],
   "source": []
  }
 ],
 "metadata": {
  "kernelspec": {
   "display_name": "Python 3 (ipykernel)",
   "language": "python",
   "name": "python3"
  },
  "language_info": {
   "codemirror_mode": {
    "name": "ipython",
    "version": 3
   },
   "file_extension": ".py",
   "mimetype": "text/x-python",
   "name": "python",
   "nbconvert_exporter": "python",
   "pygments_lexer": "ipython3",
   "version": "3.10.11"
  }
 },
 "nbformat": 4,
 "nbformat_minor": 5
}
