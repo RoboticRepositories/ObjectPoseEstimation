{
 "cells": [
  {
   "cell_type": "code",
   "execution_count": null,
   "id": "e730079d-067d-45e3-9cbc-05ad3baf8fdd",
   "metadata": {},
   "outputs": [],
   "source": [
    "!PYTHONPATH=/code/foundpose:/code/foundpose/external/bop_toolkit:/code/foundpose/external/dinov2 python gen_templates.py --opts-path /code/foundpose/configs/gen_templates/lmo.json"
   ]
  },
  {
   "cell_type": "code",
   "execution_count": null,
   "id": "8ad8c76b-2d52-4957-b2de-f403a6effe17",
   "metadata": {},
   "outputs": [],
   "source": []
  }
 ],
 "metadata": {
  "kernelspec": {
   "display_name": "Python 3 (ipykernel)",
   "language": "python",
   "name": "python3"
  },
  "language_info": {
   "codemirror_mode": {
    "name": "ipython",
    "version": 3
   },
   "file_extension": ".py",
   "mimetype": "text/x-python",
   "name": "python",
   "nbconvert_exporter": "python",
   "pygments_lexer": "ipython3",
   "version": "3.11.11"
  }
 },
 "nbformat": 4,
 "nbformat_minor": 5
}
