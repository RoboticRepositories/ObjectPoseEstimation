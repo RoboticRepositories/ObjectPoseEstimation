{
 "cells": [
  {
   "cell_type": "code",
   "execution_count": null,
   "id": "22734b74-17f7-4043-91b9-4a08415edef5",
   "metadata": {},
   "outputs": [],
   "source": [
    "!PYTHONPATH=/code/foundpose:/code/foundpose/external/bop_toolkit:/code/foundpose/external/dinov2 python infer.py --opts-path /code/foundpose/configs/infer/lmo.json"
   ]
  },
  {
   "cell_type": "code",
   "execution_count": null,
   "id": "b3c68fb1-b7d7-430f-b240-69e9ab7323e6",
   "metadata": {},
   "outputs": [],
   "source": []
  }
 ],
 "metadata": {
  "kernelspec": {
   "display_name": "Python 3 (ipykernel)",
   "language": "python",
   "name": "python3"
  },
  "language_info": {
   "codemirror_mode": {
    "name": "ipython",
    "version": 3
   },
   "file_extension": ".py",
   "mimetype": "text/x-python",
   "name": "python",
   "nbconvert_exporter": "python",
   "pygments_lexer": "ipython3",
   "version": "3.11.11"
  }
 },
 "nbformat": 4,
 "nbformat_minor": 5
}
