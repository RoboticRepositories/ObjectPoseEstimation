{
 "cells": [
  {
   "cell_type": "code",
   "execution_count": null,
   "id": "e730079d-067d-45e3-9cbc-05ad3baf8fdd",
   "metadata": {},
   "outputs": [],
   "source": [
    "! wget https://huggingface.co/datasets/evinpinar/foundpose/resolve/main/templates.zip"
   ]
  },
  {
   "cell_type": "code",
   "execution_count": null,
   "id": "8ad8c76b-2d52-4957-b2de-f403a6effe17",
   "metadata": {},
   "outputs": [],
   "source": [
    "! unzip -oq templates.zip -x __MACOSX/*"
   ]
  },
  {
   "cell_type": "code",
   "execution_count": null,
   "id": "2cdca4d5-ee45-4d42-9de2-1921d40b5b94",
   "metadata": {},
   "outputs": [],
   "source": [
    "! rm templates.zip"
   ]
  },
  {
   "cell_type": "code",
   "execution_count": null,
   "id": "9059d8f6-d8e0-4a84-beb3-36f386f076cd",
   "metadata": {},
   "outputs": [],
   "source": [
    "! ./replace.sh \"/Users/evinpinar/Documents/Workspace/foundpose_output\" \"/Workspace\" templates/v1/lmo/1/metadata.json\n",
    "! ./replace.sh \"/Users/evinpinar/Documents/Workspace/foundpose_output\" \"/Workspace\" templates/v1/lmo/5/metadata.json\n",
    "! ./replace.sh \"/Users/evinpinar/Documents/Workspace/foundpose_output\" \"/Workspace\" templates/v1/lmo/6/metadata.json\n",
    "! ./replace.sh \"/Users/evinpinar/Documents/Workspace/foundpose_output\" \"/Workspace\" templates/v1/lmo/7/metadata.json\n",
    "! ./replace.sh \"/Users/evinpinar/Documents/Workspace/foundpose_output\" \"/Workspace\" templates/v1/lmo/8/metadata.json\n",
    "! ./replace.sh \"/Users/evinpinar/Documents/Workspace/foundpose_output\" \"/Workspace\" templates/v1/lmo/9/metadata.json\n",
    "! ./replace.sh \"/Users/evinpinar/Documents/Workspace/foundpose_output\" \"/Workspace\" templates/v1/lmo/10/metadata.json\n",
    "! ./replace.sh \"/Users/evinpinar/Documents/Workspace/foundpose_output\" \"/Workspace\" templates/v1/lmo/11/metadata.json\n",
    "! ./replace.sh \"/Users/evinpinar/Documents/Workspace/foundpose_output\" \"/Workspace\" templates/v1/lmo/12/metadata.json"
   ]
  },
  {
   "cell_type": "code",
   "execution_count": null,
   "id": "7e5bc0c3-9a6f-470d-b5f8-2f9ad0903324",
   "metadata": {},
   "outputs": [],
   "source": []
  }
 ],
 "metadata": {
  "kernelspec": {
   "display_name": "Python 3 (ipykernel)",
   "language": "python",
   "name": "python3"
  },
  "language_info": {
   "codemirror_mode": {
    "name": "ipython",
    "version": 3
   },
   "file_extension": ".py",
   "mimetype": "text/x-python",
   "name": "python",
   "nbconvert_exporter": "python",
   "pygments_lexer": "ipython3",
   "version": "3.11.11"
  }
 },
 "nbformat": 4,
 "nbformat_minor": 5
}
