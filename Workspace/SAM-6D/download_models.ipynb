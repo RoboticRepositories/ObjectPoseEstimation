{
 "cells": [
  {
   "cell_type": "markdown",
   "id": "2cc1b2f0-2bcf-4294-b6de-2367ac53a033",
   "metadata": {},
   "source": [
    "### Instance Segmentation Model (ISM) for SAM-6D"
   ]
  },
  {
   "cell_type": "markdown",
   "id": "6b648c2e-e735-4f26-a898-ede11bfe3584",
   "metadata": {},
   "source": [
    "Download model weights of [Segmenting Anything](https://github.com/facebookresearch/segment-anything):"
   ]
  },
  {
   "cell_type": "code",
   "execution_count": null,
   "id": "aa140038-e68c-4f45-916d-59c13b38b6ac",
   "metadata": {},
   "outputs": [],
   "source": [
    "!cd /code/SAM-6D/Instance_Segmentation_Model && python download_sam.py"
   ]
  },
  {
   "cell_type": "markdown",
   "id": "18198a61-9edd-477c-b861-3cbf6aaf5efe",
   "metadata": {},
   "source": [
    "Download model weights of [Fast Segmenting Anything](https://github.com/CASIA-IVA-Lab/FastSAM):"
   ]
  },
  {
   "cell_type": "code",
   "execution_count": null,
   "id": "8fc57c14-6d7e-4045-9c13-57b5455b40e7",
   "metadata": {},
   "outputs": [],
   "source": [
    "!cd /code/SAM-6D/Instance_Segmentation_Model && python download_fastsam.py"
   ]
  },
  {
   "cell_type": "markdown",
   "id": "a7c518c5-0783-4890-af6d-16dc7a505a5c",
   "metadata": {},
   "source": [
    "Download model weights of ViT pre-trained by [DINOv2](https://github.com/facebookresearch/dinov2):"
   ]
  },
  {
   "cell_type": "code",
   "execution_count": null,
   "id": "26030f80-174c-4a7a-ab42-b7ff8ecfbda4",
   "metadata": {},
   "outputs": [],
   "source": [
    "!cd /code/SAM-6D/Instance_Segmentation_Model && python download_dinov2.py"
   ]
  },
  {
   "cell_type": "markdown",
   "id": "b10db562-540a-49e6-9d61-ac6c36f9e29c",
   "metadata": {},
   "source": [
    "### Pose Estimation Model (PEM) for SAM-6D"
   ]
  },
  {
   "cell_type": "code",
   "execution_count": null,
   "id": "b6794ce0-0f4f-4636-b235-1ba581e91d59",
   "metadata": {},
   "outputs": [],
   "source": [
    "!cd /code/SAM-6D/Pose_Estimation_Model && python download_sam6d-pem.py"
   ]
  },
  {
   "cell_type": "code",
   "execution_count": null,
   "id": "232e06bc-22f6-46e7-a221-387508d12f22",
   "metadata": {},
   "outputs": [],
   "source": []
  }
 ],
 "metadata": {
  "kernelspec": {
   "display_name": "Python 3 (ipykernel)",
   "language": "python",
   "name": "python3"
  },
  "language_info": {
   "codemirror_mode": {
    "name": "ipython",
    "version": 3
   },
   "file_extension": ".py",
   "mimetype": "text/x-python",
   "name": "python",
   "nbconvert_exporter": "python",
   "pygments_lexer": "ipython3",
   "version": "3.9.6"
  }
 },
 "nbformat": 4,
 "nbformat_minor": 5
}
