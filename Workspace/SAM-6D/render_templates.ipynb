{
 "cells": [
  {
   "cell_type": "code",
   "execution_count": 1,
   "id": "2b1ff67e-0938-44c0-907a-f2d86b73bbdb",
   "metadata": {},
   "outputs": [
    {
     "name": "stdout",
     "output_type": "stream",
     "text": [
      "Warning: Changed install path from /home_local/root... to /root..., there is no /home_local/ on this machine.\n",
      "Using blender in /root/blender/blender-3.3.1-linux-x64\n",
      "Using temporary directory: /dev/shm/blender_proc_0fbdcf9b5a004313a7d75d95905130b0\n",
      "Blender 3.3.1 (hash b292cfe5a936 built 2022-10-05 00:14:35)\n",
      "Error: Python: Traceback (most recent call last):\n",
      "  File \"/code/SAM-6D/Render/render_custom_templates.py\", line 1, in <module>\n",
      "    import blenderproc as bproc\n",
      "  File \"/opt/conda/envs/sam6d/lib/python3.9/site-packages/blenderproc/__init__.py\", line 27, in <module>\n",
      "    from .api import writer\n",
      "  File \"/opt/conda/envs/sam6d/lib/python3.9/site-packages/blenderproc/api/writer/__init__.py\", line 1, in <module>\n",
      "    from blenderproc.python.writer.GifWriterUtility import write_gif_animation\n",
      "  File \"/opt/conda/envs/sam6d/lib/python3.9/site-packages/blenderproc/python/writer/GifWriterUtility.py\", line 10, in <module>\n",
      "    from blenderproc.scripts.visHdf5Files import vis_data\n",
      "  File \"/opt/conda/envs/sam6d/lib/python3.9/site-packages/blenderproc/scripts/visHdf5Files.py\", line 11, in <module>\n",
      "    from matplotlib import pyplot as plt\n",
      "  File \"/root/blender/blender-3.3.1-linux-x64/custom-python-packages/lib/python3.10/site-packages/matplotlib/pyplot.py\", line 2230, in <module>\n",
      "    switch_backend(rcParams[\"backend\"])\n",
      "  File \"/root/blender/blender-3.3.1-linux-x64/custom-python-packages/lib/python3.10/site-packages/matplotlib/pyplot.py\", line 267, in switch_backend\n",
      "    class backend_mod(matplotlib.backend_bases._Backend):\n",
      "  File \"/root/blender/blender-3.3.1-linux-x64/custom-python-packages/lib/python3.10/site-packages/matplotlib/pyplot.py\", line 268, in backend_mod\n",
      "    locals().update(vars(importlib.import_module(backend_name)))\n",
      "  File \"/root/blender/blender-3.3.1-linux-x64/3.3/python/lib/python3.10/importlib/__init__.py\", line 126, in import_module\n",
      "    return _bootstrap._gcd_import(name[level:], package, level)\n",
      "ModuleNotFoundError: No module named 'matplotlib_inline'\n",
      "\n",
      "Error: script failed, file: 'render_custom_templates.py', exiting.\n",
      "Cleaning temporary directory\n"
     ]
    }
   ],
   "source": [
    "! ./render_templates.sh"
   ]
  },
  {
   "cell_type": "code",
   "execution_count": null,
   "id": "341cf660-0e53-4c69-bb25-d092817f6243",
   "metadata": {},
   "outputs": [],
   "source": []
  }
 ],
 "metadata": {
  "kernelspec": {
   "display_name": "Python 3 (ipykernel)",
   "language": "python",
   "name": "python3"
  },
  "language_info": {
   "codemirror_mode": {
    "name": "ipython",
    "version": 3
   },
   "file_extension": ".py",
   "mimetype": "text/x-python",
   "name": "python",
   "nbconvert_exporter": "python",
   "pygments_lexer": "ipython3",
   "version": "3.9.6"
  }
 },
 "nbformat": 4,
 "nbformat_minor": 5
}
