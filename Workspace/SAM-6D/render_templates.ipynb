{
 "cells": [
  {
   "cell_type": "code",
   "execution_count": null,
   "id": "2194113f-2993-45dd-a66d-d807af60c733",
   "metadata": {},
   "outputs": [],
   "source": [
    "! pip install blenderproc==2.6.2"
   ]
  },
  {
   "cell_type": "code",
   "execution_count": null,
   "id": "1560d41b-820b-4379-9e91-f124f74db202",
   "metadata": {},
   "outputs": [],
   "source": [
    "! blenderproc pip install matplotlib-inline IPython"
   ]
  },
  {
   "cell_type": "code",
   "execution_count": null,
   "id": "591cb278-b05a-4ac6-88b4-e62a29d24dd6",
   "metadata": {},
   "outputs": [],
   "source": [
    "! cd /code/SAM-6D/Render/ && blenderproc run render_custom_templates.py   --output_dir /Workspace/Data/Example/outputs --cad_path /Workspace/Data/Example/obj_000005.ply"
   ]
  },
  {
   "cell_type": "code",
   "execution_count": null,
   "id": "b96444a9-b1f3-4246-aba1-f1c20fda3f2a",
   "metadata": {},
   "outputs": [],
   "source": []
  }
 ],
 "metadata": {
  "kernelspec": {
   "display_name": "Python 3 (ipykernel)",
   "language": "python",
   "name": "python3"
  },
  "language_info": {
   "codemirror_mode": {
    "name": "ipython",
    "version": 3
   },
   "file_extension": ".py",
   "mimetype": "text/x-python",
   "name": "python",
   "nbconvert_exporter": "python",
   "pygments_lexer": "ipython3",
   "version": "3.9.6"
  }
 },
 "nbformat": 4,
 "nbformat_minor": 5
}
