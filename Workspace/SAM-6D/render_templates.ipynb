{
 "cells": [
  {
   "cell_type": "code",
   "execution_count": null,
   "id": "591cb278-b05a-4ac6-88b4-e62a29d24dd6",
   "metadata": {},
   "outputs": [],
   "source": [
    "! cd /code/SAM-6D/Render/ && blenderproc run render_custom_templates.py   --output_dir /Workspace/Data/Example/outputs --cad_path /Workspace/Data/Example/obj_000005.ply"
   ]
  },
  {
   "cell_type": "code",
   "execution_count": null,
   "id": "c43e06f0-a546-4884-adb1-f24725cd34f8",
   "metadata": {},
   "outputs": [],
   "source": []
  }
 ],
 "metadata": {
  "kernelspec": {
   "display_name": "Python 3 (ipykernel)",
   "language": "python",
   "name": "python3"
  },
  "language_info": {
   "codemirror_mode": {
    "name": "ipython",
    "version": 3
   },
   "file_extension": ".py",
   "mimetype": "text/x-python",
   "name": "python",
   "nbconvert_exporter": "python",
   "pygments_lexer": "ipython3",
   "version": "3.9.6"
  }
 },
 "nbformat": 4,
 "nbformat_minor": 5
}
