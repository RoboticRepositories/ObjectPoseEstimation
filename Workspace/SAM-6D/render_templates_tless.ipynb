{
 "cells": [
  {
   "cell_type": "code",
   "execution_count": null,
   "id": "7b1f700d-462e-4a6c-a62c-76958080f187",
   "metadata": {},
   "outputs": [],
   "source": [
    "! blenderproc pip install matplotlib_inline IPython"
   ]
  },
  {
   "cell_type": "code",
   "execution_count": null,
   "id": "591cb278-b05a-4ac6-88b4-e62a29d24dd6",
   "metadata": {},
   "outputs": [],
   "source": [
    "! cd /code/SAM-6D/Render/ && blenderproc run render_custom_templates.py \\\n",
    "  --output_dir /Workspace/Data/Example_tless/outputs \\\n",
    "  --cad_path /Workspace/Data/Example_tless/obj_000005.ply"
   ]
  },
  {
   "cell_type": "code",
   "execution_count": null,
   "id": "da428e2c-608e-4f02-9d0e-5a6906470fc3",
   "metadata": {},
   "outputs": [],
   "source": []
  }
 ],
 "metadata": {
  "kernelspec": {
   "display_name": "Python 3 (ipykernel)",
   "language": "python",
   "name": "python3"
  },
  "language_info": {
   "codemirror_mode": {
    "name": "ipython",
    "version": 3
   },
   "file_extension": ".py",
   "mimetype": "text/x-python",
   "name": "python",
   "nbconvert_exporter": "python",
   "pygments_lexer": "ipython3",
   "version": "3.9.6"
  }
 },
 "nbformat": 4,
 "nbformat_minor": 5
}
