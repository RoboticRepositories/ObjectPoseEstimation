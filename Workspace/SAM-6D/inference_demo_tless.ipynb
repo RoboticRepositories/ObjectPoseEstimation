{
 "cells": [
  {
   "cell_type": "code",
   "execution_count": null,
   "id": "6f46b3ac-c30d-4954-8a05-ba8587079321",
   "metadata": {},
   "outputs": [],
   "source": [
    "! sh inference_demo_tless.sh"
   ]
  },
  {
   "cell_type": "code",
   "execution_count": null,
   "id": "0503b84b-8a00-4abc-9f07-278358115364",
   "metadata": {},
   "outputs": [],
   "source": [
    "from PIL import Image\n",
    "import matplotlib.pyplot as plt"
   ]
  },
  {
   "cell_type": "code",
   "execution_count": null,
   "id": "b774eaa6-7d90-4cf6-bc79-d3caeecfd468",
   "metadata": {},
   "outputs": [],
   "source": [
    "image_path = './Data/Example_tless/outputs/sam6d_results/vis_ism.png'\n",
    "image = Image.open(image_path)\n",
    "plt.imshow(image)\n",
    "plt.axis('off')\n",
    "plt.title(\"Segmentation mask\")\n",
    "#plt.show()\n",
    "plt.savefig('sam-6d_segmentation_mask.png')"
   ]
  },
  {
   "cell_type": "code",
   "execution_count": null,
   "id": "d4dc8737-9dfd-40bf-ac35-c42639d5d8ef",
   "metadata": {},
   "outputs": [],
   "source": [
    "image_path = './Data/Example_tless/outputs/sam6d_results/vis_pem.png'\n",
    "image = Image.open(image_path)\n",
    "plt.imshow(image)\n",
    "plt.axis('off')\n",
    "plt.title(\"Pose estimation\")\n",
    "plt.show()"
   ]
  },
  {
   "cell_type": "code",
   "execution_count": null,
   "id": "bedbc96f-8734-43b1-bb88-e7e9f655a8f3",
   "metadata": {},
   "outputs": [],
   "source": []
  }
 ],
 "metadata": {
  "kernelspec": {
   "display_name": "Python 3 (ipykernel)",
   "language": "python",
   "name": "python3"
  },
  "language_info": {
   "codemirror_mode": {
    "name": "ipython",
    "version": 3
   },
   "file_extension": ".py",
   "mimetype": "text/x-python",
   "name": "python",
   "nbconvert_exporter": "python",
   "pygments_lexer": "ipython3",
   "version": "3.9.6"
  }
 },
 "nbformat": 4,
 "nbformat_minor": 5
}
