{
 "cells": [
  {
   "cell_type": "code",
   "execution_count": 1,
   "id": "6f46b3ac-c30d-4954-8a05-ba8587079321",
   "metadata": {},
   "outputs": [
    {
     "name": "stdout",
     "output_type": "stream",
     "text": [
      "/opt/conda/envs/sam6d/lib/python3.9/site-packages/hydra/_internal/defaults_list.py:251: UserWarning: In 'ISM_sam.yaml': Defaults list is missing `_self_`. See https://hydra.cc/docs/1.2/upgrades/1.0_to_1.1/default_composition_order for more information\n",
      "  warnings.warn(msg, UserWarning)\n",
      "INFO:root:Initializing model\n",
      "INFO:torch.distributed.nn.jit.instantiator:Created a temporary directory at /tmp/tmpitqpi_yd\n",
      "INFO:torch.distributed.nn.jit.instantiator:Writing /tmp/tmpitqpi_yd/_remote_module_non_scriptable.py\n",
      "INFO:root:Loading SAM model from ./checkpoints/segment-anything/\n",
      "INFO:root:Init CustomSamAutomaticMaskGenerator done!\n",
      "INFO:dinov2:using MLP layer as FFN\n",
      "INFO:root:Init CustomDINOv2 done!\n",
      "INFO:root:Init CustomDINOv2 with full size=640 and proposal size=224 done!\n",
      "INFO:root:Init CNOS done!\n",
      "INFO:root:Moving models to cuda done!\n",
      "INFO:root:Initializing template\n",
      "/code/SAM-6D/Instance_Segmentation_Model/run_inference_custom.py:86: DeprecationWarning: Starting with ImageIO v3 the behavior of this function will switch to that of iio.v3.imread. To keep the current behavior (and make this warning disappear) use `import imageio.v2 as imageio` or call `imageio.v2.imread` directly.\n",
      "  depth = np.array(imageio.imread(depth_path)).astype(np.int32)\n",
      "set CUDA_VISIBLE_DEVICES as 0\n",
      "=> creating model ...\n",
      "load pre-trained checkpoint from: checkpoints/mae_pretrain_vit_base.pth\n",
      "=> extracting templates ...\n",
      "=> loading input data ...\n",
      "=> running model ...\n",
      "=> saving results ...\n",
      "=> visualizating ...\n"
     ]
    }
   ],
   "source": [
    "! sh demo.sh"
   ]
  },
  {
   "cell_type": "code",
   "execution_count": null,
   "id": "a3eec48d-9f5e-47fb-b99c-ac15c2059d67",
   "metadata": {},
   "outputs": [],
   "source": []
  }
 ],
 "metadata": {
  "kernelspec": {
   "display_name": "Python 3 (ipykernel)",
   "language": "python",
   "name": "python3"
  },
  "language_info": {
   "codemirror_mode": {
    "name": "ipython",
    "version": 3
   },
   "file_extension": ".py",
   "mimetype": "text/x-python",
   "name": "python",
   "nbconvert_exporter": "python",
   "pygments_lexer": "ipython3",
   "version": "3.9.6"
  }
 },
 "nbformat": 4,
 "nbformat_minor": 5
}
