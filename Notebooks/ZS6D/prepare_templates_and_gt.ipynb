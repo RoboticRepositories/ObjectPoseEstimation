{
 "cells": [
  {
   "cell_type": "code",
   "execution_count": 1,
   "id": "d760e522-3b9f-40ff-907f-758d6c601569",
   "metadata": {},
   "outputs": [
    {
     "name": "stdout",
     "output_type": "stream",
     "text": [
      "Loading and preparing the object meshes:\n",
      "100%|███████████████████████████████████████████| 43/43 [00:14<00:00,  2.95it/s]\n",
      "Using cache found in /root/.cache/torch/hub/facebookresearch_dino_main\n",
      "WARNING: could not determine DPI\n",
      "  0%|                                                    | 0/23 [00:00<?, ?it/s]Loading obj_000017.ply with vertex colors\n",
      "  4%|█▉                                          | 1/23 [00:15<05:44, 15.66s/it]Loading obj_000011.ply with vertex colors\n",
      "  9%|███▊                                        | 2/23 [00:32<05:46, 16.49s/it]Loading obj_000012.ply with vertex colors\n",
      " 13%|█████▋                                      | 3/23 [00:49<05:30, 16.54s/it]Loading obj_000014.ply with vertex colors\n",
      " 17%|███████▋                                    | 4/23 [01:06<05:15, 16.61s/it]Loading obj_000020.ply with vertex colors\n",
      " 22%|█████████▌                                  | 5/23 [01:22<04:59, 16.61s/it]Loading obj_000008.ply with vertex colors\n",
      " 26%|███████████▍                                | 6/23 [01:39<04:44, 16.74s/it]Loading obj_000015.ply with vertex colors\n",
      " 30%|█████████████▍                              | 7/23 [01:57<04:33, 17.07s/it]Loading obj_000003.ply with vertex colors\n",
      " 35%|███████████████▎                            | 8/23 [02:15<04:18, 17.27s/it]Loading obj_000009.ply with vertex colors\n",
      " 39%|█████████████████▏                          | 9/23 [02:34<04:09, 17.80s/it]Loading obj_000002.ply with vertex colors\n",
      " 43%|██████████████████▋                        | 10/23 [02:55<04:05, 18.87s/it]Loading obj_000004.ply with vertex colors\n",
      " 48%|████████████████████▌                      | 11/23 [03:14<03:47, 18.95s/it]Loading obj_000016.ply with vertex colors\n",
      " 52%|██████████████████████▍                    | 12/23 [03:36<03:38, 19.84s/it]Loading obj_000018.ply with vertex colors\n",
      " 57%|████████████████████████▎                  | 13/23 [03:55<03:16, 19.62s/it]Loading obj_000013.ply with vertex colors\n",
      " 65%|████████████████████████████               | 15/23 [04:16<02:02, 15.37s/it]Loading obj_000007.ply with vertex colors\n",
      " 70%|█████████████████████████████▉             | 16/23 [04:36<01:55, 16.56s/it]Loading obj_000010.ply with vertex colors\n",
      " 78%|█████████████████████████████████▋         | 18/23 [04:57<01:10, 14.11s/it]Loading obj_000001.ply with vertex colors\n",
      " 83%|███████████████████████████████████▌       | 19/23 [05:19<01:03, 15.91s/it]Loading obj_000021.ply with vertex colors\n",
      " 87%|█████████████████████████████████████▍     | 20/23 [05:39<00:50, 16.95s/it]Loading obj_000006.ply with vertex colors\n",
      " 91%|███████████████████████████████████████▎   | 21/23 [06:01<00:36, 18.26s/it]Loading obj_000005.ply with vertex colors\n",
      " 96%|█████████████████████████████████████████▏ | 22/23 [06:23<00:19, 19.08s/it]Loading obj_000019.ply with vertex colors\n",
      "100%|███████████████████████████████████████████| 23/23 [06:45<00:00, 17.62s/it]\n"
     ]
    }
   ],
   "source": [
    "!./prepare_templates_and_gt.sh"
   ]
  },
  {
   "cell_type": "code",
   "execution_count": null,
   "id": "d01dd646-ae69-40b4-b282-b5b304556b94",
   "metadata": {},
   "outputs": [],
   "source": []
  }
 ],
 "metadata": {
  "kernelspec": {
   "display_name": "Python 3 (ipykernel)",
   "language": "python",
   "name": "python3"
  },
  "language_info": {
   "codemirror_mode": {
    "name": "ipython",
    "version": 3
   },
   "file_extension": ".py",
   "mimetype": "text/x-python",
   "name": "python",
   "nbconvert_exporter": "python",
   "pygments_lexer": "ipython3",
   "version": "3.10.11"
  }
 },
 "nbformat": 4,
 "nbformat_minor": 5
}
